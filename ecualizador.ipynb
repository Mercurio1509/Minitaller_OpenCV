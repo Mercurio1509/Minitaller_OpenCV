{
 "cells": [
  {
   "cell_type": "code",
   "execution_count": 6,
   "metadata": {},
   "outputs": [],
   "source": [
    "#Bloque 1\n",
    "#!pip install opencv-contrib-python\n",
    "\n",
    "import cv2 as cv\n",
    "import argparse\n",
    "import matplotlib.pyplot as plt\n",
    " \n",
    "src=cv.imread('imagen_equalizador.jpg')\n",
    "\n",
    "if src is None:\n",
    "    print('Could not open or find the image:', src)\n",
    "    exit(0)\n",
    " "
   ]
  },
  {
   "cell_type": "code",
   "execution_count": 7,
   "metadata": {},
   "outputs": [],
   "source": [
    "#Bloque 2\n",
    "src = cv.cvtColor(src, cv.COLOR_BGR2GRAY)"
   ]
  },
  {
   "cell_type": "code",
   "execution_count": 8,
   "metadata": {},
   "outputs": [],
   "source": [
    "#Bloque 3\n",
    "dst = cv.equalizeHist(src)"
   ]
  },
  {
   "cell_type": "code",
   "execution_count": null,
   "metadata": {},
   "outputs": [],
   "source": [
    "# Bloque 4\n",
    "cv.imshow('Source image', src)\n",
    "\n",
    "img1_rgb = cv.cvtColor(src, cv.COLOR_BGR2RGB)\n",
    "plt.imshow(img1_rgb)\n",
    "plt.show()\n",
    "\n",
    "\n",
    "cv.imshow('Equalized Image', dst)\n",
    "img2_rgb = cv.cvtColor(dst, cv.COLOR_BGR2RGB)\n",
    "plt.imshow(img2_rgb)\n",
    "plt.show()\n",
    "\n",
    " \n",
    "cv.waitKey(0)\n",
    "cv.destroyAllWindows()"
   ]
  }
 ],
 "metadata": {
  "kernelspec": {
   "display_name": "Python 3 (ipykernel)",
   "language": "python",
   "name": "python3"
  },
  "language_info": {
   "codemirror_mode": {
    "name": "ipython",
    "version": 3
   },
   "file_extension": ".py",
   "mimetype": "text/x-python",
   "name": "python",
   "nbconvert_exporter": "python",
   "pygments_lexer": "ipython3",
   "version": "3.12.2"
  }
 },
 "nbformat": 4,
 "nbformat_minor": 4
}
