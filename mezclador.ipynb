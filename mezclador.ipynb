{
 "cells": [
  {
   "cell_type": "code",
   "execution_count": 1,
   "metadata": {},
   "outputs": [],
   "source": [
    "#Bloque 0\n",
    "#! pip install matplotlib\n",
    "#! pip install opencv-contrib-python"
   ]
  },
  {
   "cell_type": "code",
   "execution_count": 2,
   "metadata": {},
   "outputs": [],
   "source": [
    "#Bloque 1\n",
    "import cv2\n",
    "import matplotlib.pyplot as plt"
   ]
  },
  {
   "cell_type": "code",
   "execution_count": null,
   "metadata": {},
   "outputs": [],
   "source": [
    "#Bloque 2\n",
    "# Cargar las dos imágenes\n",
    "img1 = cv2.imread('imagen-tec.png')\n",
    "plt.imshow(img1)\n",
    "plt.show()\n",
    "\n",
    "img1_rgb = cv2.cvtColor(img1, cv2.COLOR_BGR2RGB)\n",
    "plt.imshow(img1_rgb)\n",
    "plt.show()"
   ]
  },
  {
   "cell_type": "code",
   "execution_count": null,
   "metadata": {},
   "outputs": [],
   "source": [
    "#Bloque 3\n",
    "img2 = cv2.imread('imagen-tec2.jpg')\n",
    "plt.imshow(img2)\n",
    "plt.show()\n",
    "\n",
    "img2_rgb = cv2.cvtColor(img2, cv2.COLOR_BGR2RGB)\n",
    "plt.imshow(img2_rgb)\n",
    "plt.show()\n"
   ]
  },
  {
   "cell_type": "code",
   "execution_count": null,
   "metadata": {},
   "outputs": [],
   "source": [
    "#Bloque 4\n",
    "# Ajustar la escala de la segunda imagen para que tenga la misma forma que la primera\n",
    "img2 = cv2.resize(img2, (img1.shape[1], img1.shape[0]))\n",
    "plt.imshow(img2)\n",
    "plt.show()"
   ]
  },
  {
   "cell_type": "code",
   "execution_count": 6,
   "metadata": {},
   "outputs": [],
   "source": [
    "#Bloque 5\n",
    "# Mezclar las imágenes con un peso de 0.5 para cada una\n",
    "alpha = 0.5\n",
    "beta = 1 - alpha"
   ]
  },
  {
   "cell_type": "code",
   "execution_count": 7,
   "metadata": {},
   "outputs": [],
   "source": [
    "#Bloque 6\n",
    "output = cv2.addWeighted(img1, alpha, img2, beta, 0)"
   ]
  },
  {
   "cell_type": "code",
   "execution_count": null,
   "metadata": {},
   "outputs": [],
   "source": [
    "#Bloque 7\n",
    "# Mostrar la imagen mezclada\n",
    "cv2.imshow('Blended Image', output)\n",
    "plt.imshow(output)\n",
    "plt.show()\n",
    "\n",
    "img3_rgb = cv2.cvtColor(output, cv2.COLOR_BGR2RGB)\n",
    "plt.imshow(img3_rgb)\n",
    "plt.show()\n",
    "\n",
    "cv2.waitKey(0)\n",
    "cv2.destroyAllWindows()"
   ]
  }
 ],
 "metadata": {
  "kernelspec": {
   "display_name": "Python 3",
   "language": "python",
   "name": "python3"
  },
  "language_info": {
   "codemirror_mode": {
    "name": "ipython",
    "version": 3
   },
   "file_extension": ".py",
   "mimetype": "text/x-python",
   "name": "python",
   "nbconvert_exporter": "python",
   "pygments_lexer": "ipython3",
   "version": "3.12.2"
  }
 },
 "nbformat": 4,
 "nbformat_minor": 2
}
